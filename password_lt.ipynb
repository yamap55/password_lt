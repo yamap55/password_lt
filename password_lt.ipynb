{
 "cells": [
  {
   "cell_type": "markdown",
   "metadata": {},
   "source": [
    "# パスワードとハッシュ化について考えてみた"
   ]
  },
  {
   "cell_type": "markdown",
   "metadata": {},
   "source": [
    "- こういうの見たことない？\n",
    "\n",
    "<img src=\"image/スクリーンショット 2025-09-02 224647.png\">\n"
   ]
  },
  {
   "cell_type": "markdown",
   "metadata": {},
   "source": [
    "## 平文パスワード\n",
    "\n",
    "- こういうやつ\n",
    "\n",
    "| user_name | password |\n",
    "|-----------|----------|\n",
    "| user1     | 12345    |\n",
    "| user2     | password |\n",
    "| user3     | 12345    |\n",
    "\n",
    "※「パスワードがそのまま」データベースに格納されている\n"
   ]
  },
  {
   "cell_type": "markdown",
   "metadata": {},
   "source": [
    "## 何が問題？\n",
    "- データベースが侵害された場合、パスワードがそのまま漏洩する\n",
    "- 漏洩したサービスのアカウントが不正ログインされる\n",
    "- 更に他のサービスもアカウントが不正ログインされる\n",
    "  - ユーザーはパスワードを使いまわす"
   ]
  },
  {
   "cell_type": "markdown",
   "metadata": {},
   "source": [
    "## ハッシュ化\n",
    "- パスワードをハッシュ化して保存する\n",
    "- 入力されたパスワードを同じようにハッシュ化して、保存されているハッシュ値と比較する\n",
    "\n",
    "| user_name | password_hash                    |\n",
    "|-----------|----------------------------------|\n",
    "| user1     | 827ccb0eea8a706c4c34a16891f84e7b |\n",
    "| user2     | 5f4dcc3b5aa765d61d8327deb882cf99 |\n",
    "\n",
    "※「827ccb0eea8a706c4c34a16891f84e7b」は「12345」のハッシュ値  \n",
    "※「5f4dcc3b5aa765d61d8327deb882cf99」は「password」のハッシュ値\n",
    "\n",
    "1. 入力された値\n",
    "    - user_name: user1\n",
    "    - password: 12345    \n",
    "2. パスワードをハッシュ化すると「827ccb0eea8a706c4c34a16891f84e7b」\n",
    "3. ハッシュ値を比較すると同じ値なのでパスワードが一致している！！\n"
   ]
  },
  {
   "cell_type": "markdown",
   "metadata": {},
   "source": [
    "## ハッシュ値から元のパスワードを推測することはできない\n",
    "- 「827ccb0eea8a706c4c34a16891f84e7b」から「12345」を推測することはできたら意味がない\n",
    "- 一度変換してしまったら元に戻す方法が存在しないから\n",
    "\n",
    "この辺りが、パスワード教えてという問い合わせに回答することができない理由  \n",
    "パスワードを保持していない + ハッシュからパスワードを推測することができない  \n",
    "→ パスワードはわからない\n",
    "\n",
    "※なので、パスワードを教えてくれるサービスはちょっと怖い"
   ]
  },
  {
   "cell_type": "markdown",
   "metadata": {},
   "source": [
    "## 暗号化とハッシュ化の違い\n",
    "- 暗号化は元の文字列を復元できる\n",
    "- ハッシュ化は元の文字列を復元できない\n",
    "\n",
    "※復元できないって意味がわからなくない？？（何回でも同じハッシュ値が出力されるのに）"
   ]
  },
  {
   "cell_type": "markdown",
   "metadata": {},
   "source": [
    "## ハッシュ化は圧縮\n",
    "\n",
    "- たとえば「数字を 100 で割った余り」を返す仕組み\n",
    "  - 12345 → 45\n",
    "  - 23445 → 45\n",
    "  - 34545 → 45\n",
    "\n",
    "「45」から元の数値に戻すことができない\n",
    "\n",
    "このようなことをハッシュ化という。\n",
    "ここで大事なことは、「1つのハッシュ値に対して元の文字列が複数存在する」ということ。"
   ]
  },
  {
   "cell_type": "markdown",
   "metadata": {},
   "source": [
    "## 正しいパスワード以外でログインできる？\n",
    "- ログインできる\n",
    "- 仮に「a」のハッシュ値が「12345」で、「b」のハッシュ値が「12345」だったとするとログイン可能\n"
   ]
  },
  {
   "cell_type": "markdown",
   "metadata": {},
   "source": [
    "## 現実的には起こりえない\n",
    "- 衝突する別のパスワードを探すのは、宇宙の寿命が終わるまで計算しても無理レベル\n",
    "- そもそもハッシュ値が衝突する確率は極めて低い\n",
    "  - ハッシュ値が40桁の場合\n",
    "    - 1000人が1日に10回試すとする\n",
    "    - 4×10の17乗年間続けると、50%の確率で衝突が発生する\n",
    "  - 4×10の17乗年間とは宇宙の年齢よりも長い\n",
    "\n",
    "よって、「衝突がある」ことは理論的に避けられないけど、現実的には問題にならない"
   ]
  },
  {
   "cell_type": "markdown",
   "metadata": {},
   "source": [
    "## 話しを戻す"
   ]
  },
  {
   "cell_type": "markdown",
   "metadata": {},
   "source": [
    "## ハッシュ化すると元のパスワードがわからない\n",
    "- 実際に試して同じになるまで試すしかない\n"
   ]
  },
  {
   "cell_type": "markdown",
   "metadata": {},
   "source": [
    "## データベースが漏洩してもパスワードがわからない\n",
    "- データベースにはハッシュ値しかない\n",
    "- 漏洩しても元のパスワードがわからない"
   ]
  },
  {
   "cell_type": "markdown",
   "metadata": {},
   "source": [
    "## 「漏洩しても安心」ではなく「漏洩してもすぐに危険にはならない」\n",
    "- 漏洩したとしても、すぐに危険になるわけではない\n",
    "- その間にユーザーへ「パスワードを変更してください」と通知できる\n",
    "- つまり、「被害を食い止める時間を稼げる仕組み」がハッシュ化\n",
    "\n",
    "※ハッシュ化は保険"
   ]
  },
  {
   "cell_type": "markdown",
   "metadata": {},
   "source": [
    "## ハッシュ化にも種類（アルゴリズム）がある\n",
    "- それぞれ特徴や強さが違う\n",
    "- 昔は「MD5」や「SHA-1」という方式がよく使われていた\n",
    "- でも今は「弱いハッシュ」とされ、セキュリティ上は絶対使ってはいけない\n"
   ]
  },
  {
   "cell_type": "markdown",
   "metadata": {},
   "source": [
    "## 弱いハッシュ？\n",
    "- 衝突するハッシュを簡単に作り出せる\n",
    "- 計算が早すぎる\n",
    "  - ハッシュ化の計算コストが低いので、パスワードを総当たりで解析する攻撃に弱い\n",
    "- そもそも、レインボーテーブルという対応表が公開されている\n",
    "  - 「よく使われるパスワード → MD5 ハッシュ」\n",
    "  - 例えば「827ccb0eea8a706c4c34a16891f84e7b」があったら、一瞬で「12345」と突き止められる。"
   ]
  },
  {
   "cell_type": "markdown",
   "metadata": {},
   "source": [
    "## 実際に試してみる\n"
   ]
  },
  {
   "cell_type": "code",
   "execution_count": 8,
   "metadata": {},
   "outputs": [],
   "source": [
    "import bcrypt # pip install bcrypt\n",
    "import hashlib"
   ]
  },
  {
   "cell_type": "code",
   "execution_count": null,
   "metadata": {},
   "outputs": [
    {
     "name": "stdout",
     "output_type": "stream",
     "text": [
      "text1: 12345, hash1: 827ccb0eea8a706c4c34a16891f84e7b\n",
      "text2: password, hash2: 5f4dcc3b5aa765d61d8327deb882cf99\n"
     ]
    }
   ],
   "source": [
    "# 弱いハッシュの代表格「MD5」\n",
    "text1 = \"12345\"\n",
    "hash1 = hashlib.md5(text1.encode()).hexdigest()\n",
    "print(f\"text1: {text1}, hash1: {hash1}\")\n",
    "\n",
    "text2 = \"password\"\n",
    "hash2 = hashlib.md5(text2.encode()).hexdigest()\n",
    "print(f\"text2: {text2}, hash2: {hash2}\")\n"
   ]
  },
  {
   "cell_type": "code",
   "execution_count": 11,
   "metadata": {},
   "outputs": [
    {
     "name": "stdout",
     "output_type": "stream",
     "text": [
      "text3: TEXTCOLLBYfGiJUETHQ4hAcKSMd5zYpgqf1YRDhkmxHkhPWptrkoyz28wnI9V0aHeAuaKnak, hash3: faad49866e9498fc1719f5289e7a0269\n",
      "text4: TEXTCOLLBYfGiJUETHQ4hEcKSMd5zYpgqf1YRDhkmxHkhPWptrkoyz28wnI9V0aHeAuaKnak, hash4: faad49866e9498fc1719f5289e7a0269\n"
     ]
    }
   ],
   "source": [
    "# 弱いハッシュの代表格「MD5」\n",
    "text3 = \"TEXTCOLLBYfGiJUETHQ4hAcKSMd5zYpgqf1YRDhkmxHkhPWptrkoyz28wnI9V0aHeAuaKnak\"\n",
    "text4 = \"TEXTCOLLBYfGiJUETHQ4hEcKSMd5zYpgqf1YRDhkmxHkhPWptrkoyz28wnI9V0aHeAuaKnak\"\n",
    "#                             ↑22文字目が「A」と「E」で異なる\n",
    "\n",
    "hash3 = hashlib.md5(text3.encode()).hexdigest()\n",
    "print(f\"text3: {text3}, hash3: {hash3}\")\n",
    "\n",
    "hash4 = hashlib.md5(text4.encode()).hexdigest()\n",
    "print(f\"text4: {text4}, hash4: {hash4}\")"
   ]
  },
  {
   "cell_type": "markdown",
   "metadata": {},
   "source": [
    "```\n",
    "text3: TEXTCOLLBYfGiJUETHQ4hAcKSMd5zYpgqf1YRDhkmxHkhPWptrkoyz28wnI9V0aHeAuaKnak, hash3: faad49866e9498fc1719f5289e7a0269\n",
    "text4: TEXTCOLLBYfGiJUETHQ4hEcKSMd5zYpgqf1YRDhkmxHkhPWptrkoyz28wnI9V0aHeAuaKnak, hash4: faad49866e9498fc1719f5289e7a0269\n",
    "````\n",
    "\n",
    "↑っと出ているはずで、ハッシュの衝突が確認できる  \n",
    "つまり、MD5でハッシュ化しているサービスがあるとすると、↑の2つのパスワードどちらでもログインが可能\n",
    "\n",
    "※簡単に出しているけどこの例はかなり例外で、この短さでの衝突はこれ以外の文字列はパッと出てこない"
   ]
  },
  {
   "cell_type": "markdown",
   "metadata": {},
   "source": [
    "## 実際にはハッシュから元のパスワードを推測される\n",
    "- 漏洩したハッシュ「827ccb0eea8a706c4c34a16891f84e7b」から元のパスワードを推測することをひたすら試す"
   ]
  },
  {
   "cell_type": "code",
   "execution_count": 16,
   "metadata": {},
   "outputs": [
    {
     "name": "stdout",
     "output_type": "stream",
     "text": [
      "😃パスワードは「password」ではありません\n",
      "😃パスワードは「abcde」ではありません\n",
      "😃パスワードは「password1234」ではありません\n",
      "🤪パスワードは「12345」です\n"
     ]
    }
   ],
   "source": [
    "hash = \"827ccb0eea8a706c4c34a16891f84e7b\"\n",
    "\n",
    "def f(s):\n",
    "     return hashlib.md5(s.encode()).hexdigest()\n",
    "\n",
    "# ありそうなパスワード\n",
    "password_list = [\"password\", \"abcde\", \"password1234\", \"12345\", \"qwerty\"]\n",
    "\n",
    "for password in password_list:\n",
    "    if f(password) == hash:\n",
    "        print(f\"🤪パスワードは「{password}」です\")\n",
    "        break\n",
    "    else:\n",
    "        print(f\"😃パスワードは「{password}」ではありません\")\n",
    "\n"
   ]
  },
  {
   "cell_type": "markdown",
   "metadata": {},
   "source": [
    "## 弱いハッシュのところで「計算が早すぎる」という話しはここに繋がる\n",
    "- ハッシュ化の計算が早いので、パスワードを総当たりで解析される\n",
    "- ハッシュ化の計算が遅いと、総当たりで解析するのが難しい（時間がかかる = 時間が稼げる）"
   ]
  },
  {
   "cell_type": "markdown",
   "metadata": {},
   "source": [
    "## ハッシュ化だけの場合に発生すること その1\n",
    "\n",
    "| user_name | password_hash                    |\n",
    "|-----------|----------------------------------|\n",
    "| user1     | 827ccb0eea8a706c4c34a16891f84e7b |\n",
    "| user2     | 5e884898da28047151d0e56f8dc62927 |\n",
    "| user3     | 827ccb0eea8a706c4c34a16891f84e7b |\n",
    "\n",
    "- user1とuser3は同じパスワードを使っていることがわかってしまう\n",
    "- もしuser1のパスワードが漏洩した場合、user3も同じパスワードを使っているので、user3も不正ログインされる"
   ]
  },
  {
   "cell_type": "markdown",
   "metadata": {},
   "source": [
    "## ソルト（塩）を使用する\n",
    "- パスワードにソルトを加えてハッシュ化する\n",
    "- ソルトはユーザーごとに異なる値\n",
    "\n",
    "| user_name | password_hash                    | salt |\n",
    "|-----------|----------------------------------|------|\n",
    "| user1     | e8269a9e19201d84d0d3027720bf698a | 1234 |\n",
    "| user2     | 1fb5d7da9191c7fb675d4bd0d4975fd4 | 5678 |\n",
    "| user3     | a047343bf4ba65fd4c4ef9596c92960c | abcd |\n",
    "\n",
    "- ハッシュ化する時に パスワード + ソルト をハッシュ化する\n",
    "  - user1の場合、パスワードは「12345」でソルトは「1234」なので、「123451234」をハッシュ化する\n",
    "  - user2の場合、パスワードは「12345」でソルトは「5678」なので、「123455678」をハッシュ化する\n",
    "  - user3の場合、パスワードは「12345」でソルトは「abcd」なので、「12345abcd」をハッシュ化する\n",
    "- 生成されるハッシュは異なる値となる"
   ]
  },
  {
   "cell_type": "markdown",
   "metadata": {},
   "source": [
    "## ハッシュ化だけの場合に発生すること その2\n",
    "- 頑張ればハッシュ値から元のパスワードを推測できるかもしれない\n",
    "\n",
    "※計算速度は向上している"
   ]
  },
  {
   "cell_type": "markdown",
   "metadata": {},
   "source": [
    "## ストレッチする\n",
    "- ハッシュ化した値を更にハッシュ化する\n",
    "- → ハッシュ生成に時間かかるようにすれば良い\n",
    "- → ハッシュ生成に時間かかるようにすると、総当たりで解析するのが難しい\n",
    "\n",
    "※時間がかかるとは言っても1件をハッシュ化するのであれば大した話ではない。総当たりで計算することを想定している\n"
   ]
  },
  {
   "cell_type": "markdown",
   "metadata": {},
   "source": [
    "## ハッシュ化だけの場合に発生すること その3\n",
    "- 頑張ればハッシュ値から元のパスワードを推測できるかもしれない\n",
    "- ハッシュ値、ソルト、ストレッチ全部わかっているのであれば頑張れば推測できるかもしれない\n"
   ]
  },
  {
   "cell_type": "markdown",
   "metadata": {},
   "source": [
    "## ペッパー\n",
    "- データベースとは別の場所に文字列を保存しておく\n",
    "- パスワード + ソルト + ペッパー でハッシュ値とする\n",
    "\n",
    "※データベースが漏洩してもパスワードは漏洩しない"
   ]
  },
  {
   "cell_type": "markdown",
   "metadata": {},
   "source": [
    "## まとめ\n",
    "- パスワードを平文で保存するとデータベースが漏洩するとパスワードが漏洩する\n",
    "- ハッシュ化するとパスワードが漏洩してもハッシュ値から元のパスワードを推測できない\n",
    "- ハッシュ化とはデータベースが漏洩時の被害を軽減するための仕組み\n",
    "- ハッシュ化に加えてソルトやストレッチ、ペッパーといった追加の保険もある"
   ]
  },
  {
   "cell_type": "markdown",
   "metadata": {},
   "source": [
    "## おまけ\n",
    "- 以前エンジニアリング勉強で話した資料は↓\n",
    "  - https://github.com/yamap55/HashPlayground/blob/main/hash_playground.ipynb"
   ]
  }
 ],
 "metadata": {
  "kernelspec": {
   "display_name": ".venv",
   "language": "python",
   "name": "python3"
  },
  "language_info": {
   "codemirror_mode": {
    "name": "ipython",
    "version": 3
   },
   "file_extension": ".py",
   "mimetype": "text/x-python",
   "name": "python",
   "nbconvert_exporter": "python",
   "pygments_lexer": "ipython3",
   "version": "3.13.7"
  }
 },
 "nbformat": 4,
 "nbformat_minor": 2
}
